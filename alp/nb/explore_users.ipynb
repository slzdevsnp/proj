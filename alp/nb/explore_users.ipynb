{
 "cells": [
  {
   "cell_type": "code",
   "execution_count": 78,
   "metadata": {},
   "outputs": [],
   "source": [
    "import pandas as pd\n",
    "import numpy as np"
   ]
  },
  {
   "cell_type": "markdown",
   "metadata": {},
   "source": [
    "#### Read a csv file into a data frame"
   ]
  },
  {
   "cell_type": "code",
   "execution_count": 79,
   "metadata": {},
   "outputs": [],
   "source": [
    "#sample frame\n",
    "#csvf=\"/tmp/stream_sample.csv\"\n",
    "#prd frame\n",
    "csvf=\"/tmp/stream_prd.csv\""
   ]
  },
  {
   "cell_type": "code",
   "execution_count": 80,
   "metadata": {},
   "outputs": [],
   "source": [
    "df = pd.read_csv(csvf,header='infer')"
   ]
  },
  {
   "cell_type": "code",
   "execution_count": 81,
   "metadata": {},
   "outputs": [
    {
     "data": {
      "text/plain": [
       "(1000000, 2)"
      ]
     },
     "execution_count": 81,
     "metadata": {},
     "output_type": "execute_result"
    }
   ],
   "source": [
    "df.shape  # we have 1 M rows, the size of the generated dataset"
   ]
  },
  {
   "cell_type": "markdown",
   "metadata": {},
   "source": [
    "#### convert epoch time in dateime, sort and set datetime column as data frame's index"
   ]
  },
  {
   "cell_type": "code",
   "execution_count": 82,
   "metadata": {},
   "outputs": [],
   "source": [
    "#convert epoch to datetime (epoch timestamps are in seconds)\n",
    "df['datetime'] = pd.to_datetime(df['epoch'],unit='s')"
   ]
  },
  {
   "cell_type": "code",
   "execution_count": 83,
   "metadata": {},
   "outputs": [],
   "source": [
    "df.sort_values(by='datetime',inplace=True,ascending=True)\n",
    "df.reset_index(inplace=True)\n",
    "#df.tail(20)"
   ]
  },
  {
   "cell_type": "code",
   "execution_count": 84,
   "metadata": {},
   "outputs": [],
   "source": [
    "dff=df.set_index('datetime')\n",
    "dff.drop(['index','epoch'], axis=1,inplace=True)\n",
    "#verify\n",
    "#dff.tail(10)"
   ]
  },
  {
   "cell_type": "markdown",
   "metadata": {},
   "source": [
    "#### resample dataframe to 1 min period and count unique values in each bucket"
   ]
  },
  {
   "cell_type": "code",
   "execution_count": 108,
   "metadata": {},
   "outputs": [],
   "source": [
    "#getting the count of uniques per 1M\n",
    "dfm1=dff.resample('1T').nunique()\n",
    "dfm1.rename(columns={'uid': 'unique_ids'},inplace=True)\n",
    "#verify\n",
    "#dff.loc[dff.index>=pd.Timestamp('2016-07-11 13:40:00'),'uid'].nunique()"
   ]
  },
  {
   "cell_type": "code",
   "execution_count": 109,
   "metadata": {},
   "outputs": [
    {
     "data": {
      "text/plain": [
       "(18, 1)"
      ]
     },
     "execution_count": 109,
     "metadata": {},
     "output_type": "execute_result"
    }
   ],
   "source": [
    "dfm1.shape # we just have 18 distinct minutes"
   ]
  },
  {
   "cell_type": "code",
   "execution_count": 110,
   "metadata": {},
   "outputs": [
    {
     "data": {
      "text/html": [
       "<div>\n",
       "<style scoped>\n",
       "    .dataframe tbody tr th:only-of-type {\n",
       "        vertical-align: middle;\n",
       "    }\n",
       "\n",
       "    .dataframe tbody tr th {\n",
       "        vertical-align: top;\n",
       "    }\n",
       "\n",
       "    .dataframe thead th {\n",
       "        text-align: right;\n",
       "    }\n",
       "</style>\n",
       "<table border=\"1\" class=\"dataframe\">\n",
       "  <thead>\n",
       "    <tr style=\"text-align: right;\">\n",
       "      <th></th>\n",
       "      <th>unique_ids</th>\n",
       "    </tr>\n",
       "    <tr>\n",
       "      <th>datetime</th>\n",
       "      <th></th>\n",
       "    </tr>\n",
       "  </thead>\n",
       "  <tbody>\n",
       "    <tr>\n",
       "      <th>2016-07-11 13:39:00</th>\n",
       "      <td>21158</td>\n",
       "    </tr>\n",
       "    <tr>\n",
       "      <th>2016-07-11 13:40:00</th>\n",
       "      <td>47904</td>\n",
       "    </tr>\n",
       "    <tr>\n",
       "      <th>2016-07-11 13:41:00</th>\n",
       "      <td>43659</td>\n",
       "    </tr>\n",
       "    <tr>\n",
       "      <th>2016-07-11 13:42:00</th>\n",
       "      <td>51580</td>\n",
       "    </tr>\n",
       "    <tr>\n",
       "      <th>2016-07-11 13:43:00</th>\n",
       "      <td>36472</td>\n",
       "    </tr>\n",
       "  </tbody>\n",
       "</table>\n",
       "</div>"
      ],
      "text/plain": [
       "                     unique_ids\n",
       "datetime                       \n",
       "2016-07-11 13:39:00       21158\n",
       "2016-07-11 13:40:00       47904\n",
       "2016-07-11 13:41:00       43659\n",
       "2016-07-11 13:42:00       51580\n",
       "2016-07-11 13:43:00       36472"
      ]
     },
     "execution_count": 110,
     "metadata": {},
     "output_type": "execute_result"
    }
   ],
   "source": [
    "dfm1.head(5)"
   ]
  },
  {
   "cell_type": "markdown",
   "metadata": {},
   "source": [
    "#### Visualize unique users values and its rolling mean"
   ]
  },
  {
   "cell_type": "code",
   "execution_count": 92,
   "metadata": {},
   "outputs": [],
   "source": [
    "import matplotlib.pyplot as plt\n",
    "import seaborn as sns"
   ]
  },
  {
   "cell_type": "code",
   "execution_count": 113,
   "metadata": {},
   "outputs": [
    {
     "data": {
      "image/png": "[encoded data removed]",
      "text/plain": [
       "<Figure size 792x288 with 1 Axes>"
      ]
     },
     "metadata": {},
     "output_type": "display_data"
    }
   ],
   "source": [
    "fig,ax = plt.subplots()\n",
    "ax.plot(dfm1['unique_ids'], marker='.',linestyle='-', linewidth=0.5, label='Unique sers by 1 min')\n",
    "ax.plot(dfm1.rolling(5).mean(), linestyle='-', linewidth=2.0, label='MA users by 1 min')\n",
    "ax.set_ylabel('User hits')\n",
    "ax.legend();"
   ]
  },
  {
   "cell_type": "markdown",
   "metadata": {},
   "source": [
    "##### The plot shows that a first and last value in a User Hits serie should be discarded as they do not gather fulll statistics per minute"
   ]
  },
  {
   "cell_type": "code",
   "execution_count": null,
   "metadata": {},
   "outputs": [],
   "source": [
    "#dff.resample('1H').nunique()"
   ]
  }
 ],
 "metadata": {
  "kernelspec": {
   "display_name": "Python 3",
   "language": "python",
   "name": "python3"
  },
  "language_info": {
   "codemirror_mode": {
    "name": "ipython",
    "version": 3
   },
   "file_extension": ".py",
   "mimetype": "text/x-python",
   "name": "python",
   "nbconvert_exporter": "python",
   "pygments_lexer": "ipython3",
   "version": "3.6.5"
  }
 },
 "nbformat": 4,
 "nbformat_minor": 4
}
