{
 "cells": [
  {
   "cell_type": "code",
   "execution_count": 61,
   "metadata": {},
   "outputs": [
    {
     "name": "stdout",
     "output_type": "stream",
     "text": [
      "/content/datalab/notebooks\r\n"
     ]
    }
   ],
   "source": [
    "!pwd"
   ]
  },
  {
   "cell_type": "code",
   "execution_count": 62,
   "metadata": {
    "codeCollapsed": false,
    "hiddenCell": true
   },
   "outputs": [
    {
     "name": "stdout",
     "output_type": "stream",
     "text": [
      "absl-py==0.6.1\r\n",
      "alembic==0.8.10\r\n",
      "apache-airflow==1.9.0\r\n",
      "appdirs==1.4.3\r\n",
      "asn1crypto==0.24.0\r\n",
      "astor==0.7.1\r\n",
      "attrs==18.2.0\r\n",
      "Automat==0.7.0\r\n",
      "backcall==0.1.0\r\n",
      "beautifulsoup4==4.7.1\r\n",
      "bleach==2.1.2\r\n",
      "blinker==1.4\r\n",
      "bokeh==0.13.0\r\n",
      "brewer2mpl==1.4.1\r\n",
      "bs4==0.0.1\r\n",
      "cachetools==2.1.0\r\n",
      "certifi==2018.8.24\r\n",
      "cffi==1.11.5\r\n",
      "chardet==3.0.4\r\n",
      "click==6.7\r\n",
      "cloudpickle==0.5.5\r\n",
      "configparser==3.5.0\r\n",
      "constantly==15.1.0\r\n",
      "crcmod==1.7\r\n",
      "croniter==0.3.26\r\n",
      "cryptography==2.3.1\r\n",
      "cycler==0.10.0\r\n",
      "cytoolz==0.9.0.1\r\n",
      "dask==0.17.1\r\n",
      "datalab==1.1.3\r\n",
      "decorator==4.3.0\r\n",
      "dill==0.2.6\r\n",
      "distributed==1.21.8\r\n",
      "docutils==0.14\r\n",
      "entrypoints==0.2.3\r\n",
      "fastcache==1.0.2\r\n",
      "Flask==0.11.1\r\n",
      "Flask-Admin==1.4.1\r\n",
      "Flask-Cache==0.13.1\r\n",
      "Flask-Login==0.2.11\r\n",
      "flask-swagger==0.2.13\r\n",
      "Flask-WTF==0.14\r\n",
      "funcsigs==1.0.0\r\n",
      "future==0.16.0\r\n",
      "futures==3.0.3\r\n",
      "gast==0.2.2\r\n",
      "ggplot==0.6.8\r\n",
      "gitdb2==2.0.5\r\n",
      "GitPython==2.1.11\r\n",
      "google-api-core==0.1.4\r\n",
      "google-api-python-client==1.6.2\r\n",
      "google-auth==1.6.2\r\n",
      "google-auth-httplib2==0.0.3\r\n",
      "google-auth-oauthlib==0.1.0\r\n",
      "google-cloud==0.34.0\r\n",
      "google-cloud-bigquery==1.8.1\r\n",
      "google-cloud-core==0.28.1\r\n",
      "google-cloud-monitoring==0.28.0\r\n",
      "google-resumable-media==0.3.2\r\n",
      "googleapis-common-protos==1.5.5\r\n",
      "grpcio==1.17.1\r\n",
      "gunicorn==19.9.0\r\n",
      "h5py==2.7.1\r\n",
      "heapdict==1.0.0\r\n",
      "html5lib==1.0.1\r\n",
      "httplib2==0.10.3\r\n",
      "hyperlink==18.0.0\r\n",
      "idna==2.6\r\n",
      "imageio==2.4.1\r\n",
      "incremental==17.5.0\r\n",
      "ipykernel==4.8.2\r\n",
      "ipython==6.5.0\r\n",
      "ipython-genutils==0.2.0\r\n",
      "ipywidgets==7.2.1\r\n",
      "itsdangerous==1.1.0\r\n",
      "jedi==0.12.1\r\n",
      "Jinja2==2.8\r\n",
      "jsonschema==2.6.0\r\n",
      "jupyter-client==5.2.3\r\n",
      "jupyter-core==4.4.0\r\n",
      "jupyter-highlight-selected-word==0.2.0\r\n",
      "lime==0.1.1.23\r\n",
      "locket==0.2.0\r\n",
      "lockfile==0.12.2\r\n",
      "lxml==3.8.0\r\n",
      "Mako==1.0.7\r\n",
      "Markdown==2.6.11\r\n",
      "MarkupSafe==1.0\r\n",
      "matplotlib==2.1.2\r\n",
      "mistune==0.8.3\r\n",
      "mltoolbox-datalab-classification-and-regression==1.0.1\r\n",
      "mltoolbox-datalab-image-classification==0.2\r\n",
      "mock==2.0.0\r\n",
      "msgpack==0.5.6\r\n",
      "nbconvert==5.3.1\r\n",
      "nbformat==4.4.0\r\n",
      "networkx==2.1\r\n",
      "nltk==3.2.1\r\n",
      "notebook==5.6.0\r\n",
      "numpy==1.14.0\r\n",
      "oauth2client==2.2.0\r\n",
      "oauthlib==2.1.0\r\n",
      "olefile==0.46\r\n",
      "ordereddict==1.1\r\n",
      "packaging==17.1\r\n",
      "pandas==0.22.0\r\n",
      "pandas-gbq==0.3.0\r\n",
      "pandas-profiling==1.4.1\r\n",
      "pandocfilters==1.4.2\r\n",
      "parso==0.3.1\r\n",
      "partd==0.3.8\r\n",
      "patsy==0.5.0\r\n",
      "pbr==4.2.0\r\n",
      "pexpect==4.6.0\r\n",
      "pickleshare==0.7.4\r\n",
      "Pillow==3.4.1\r\n",
      "plotly==1.12.5\r\n",
      "prometheus-client==0.3.1\r\n",
      "prompt-toolkit==1.0.15\r\n",
      "protobuf==3.6.1\r\n",
      "psutil==4.3.0\r\n",
      "ptyprocess==0.6.0\r\n",
      "pyasn1==0.4.4\r\n",
      "pyasn1-modules==0.2.2\r\n",
      "pycparser==2.19\r\n",
      "Pygments==2.1.3\r\n",
      "PyJWT==1.6.4\r\n",
      "pyOpenSSL==18.0.0\r\n",
      "pyparsing==2.2.1\r\n",
      "PySocks==1.6.8\r\n",
      "python-daemon==2.1.2\r\n",
      "python-dateutil==2.5.0\r\n",
      "python-editor==1.0.3\r\n",
      "python-nvd3==0.14.2\r\n",
      "python-slugify==1.1.4\r\n",
      "python-snappy==0.5.1\r\n",
      "pytz==2018.4\r\n",
      "PyWavelets==1.0.0\r\n",
      "PyYAML==3.13\r\n",
      "pyzmq==17.1.0\r\n",
      "requests==2.18.4\r\n",
      "requests-oauthlib==0.8.0\r\n",
      "rsa==3.4.2\r\n",
      "scikit-image==0.13.0\r\n",
      "scikit-learn==0.19.1\r\n",
      "scipy==1.0.0\r\n",
      "seaborn==0.7.0\r\n",
      "Send2Trash==1.5.0\r\n",
      "service-identity==17.0.0\r\n",
      "setproctitle==1.1.10\r\n",
      "simplegeneric==0.8.1\r\n",
      "simplejson==3.16.0\r\n",
      "six==1.10.0\r\n",
      "smmap2==2.0.5\r\n",
      "sortedcontainers==2.0.5\r\n",
      "soupsieve==1.7.1\r\n",
      "SQLAlchemy==1.2.16\r\n",
      "statsmodels==0.8.0\r\n",
      "sympy==0.7.6.1\r\n",
      "tabulate==0.7.7\r\n",
      "tblib==1.3.2\r\n",
      "tensorboard==1.8.0\r\n",
      "tensorflow==1.8.0\r\n",
      "termcolor==1.1.0\r\n",
      "terminado==0.8.1\r\n",
      "testpath==0.3.1\r\n",
      "thrift==0.11.0\r\n",
      "toolz==0.9.0\r\n",
      "tornado==4.5.1\r\n",
      "traitlets==4.3.2\r\n",
      "Twisted==18.7.0\r\n",
      "Unidecode==1.0.23\r\n",
      "uritemplate==3.0.0\r\n",
      "urllib3==1.22\r\n",
      "wcwidth==0.1.7\r\n",
      "webencodings==0.5.1\r\n",
      "Werkzeug==0.14.1\r\n",
      "widgetsnbextension==3.2.1\r\n",
      "WTForms==2.2.1\r\n",
      "xgboost==0.6a2\r\n",
      "zict==0.1.3\r\n",
      "zope.deprecation==4.4.0\r\n",
      "zope.interface==4.5.0\r\n"
     ]
    }
   ],
   "source": [
    "!pip freeze\n"
   ]
  },
  {
   "cell_type": "code",
   "execution_count": 63,
   "metadata": {},
   "outputs": [
    {
     "name": "stdout",
     "output_type": "stream",
     "text": [
      "Requirement already satisfied: google-cloud in /usr/local/envs/py3env/lib/python3.5/site-packages (0.34.0)\r\n"
     ]
    }
   ],
   "source": [
    "#how to install a python package with syscall to pip\n",
    "!pip install google-cloud"
   ]
  },
  {
   "cell_type": "code",
   "execution_count": 64,
   "metadata": {
    "hiddenCell": true
   },
   "outputs": [
    {
     "name": "stdout",
     "output_type": "stream",
     "text": [
      "Reading package lists...\n",
      "Building dependency tree...\n",
      "Reading state information...\n",
      "The following additional packages will be installed:\n",
      "  blt dbus file fontconfig fontconfig-config fonts-lyx formencode-i18n\n",
      "  hicolor-icon-theme javascript-common libatk1.0-0 libatk1.0-data\n",
      "  libavahi-client3 libavahi-common-data libavahi-common3 libblas-common\n",
      "  libblas3 libcairo2 libcap-ng0 libcups2 libdatrie1 libdbus-1-3 libfontconfig1\n",
      "  libfreetype6 libgdk-pixbuf2.0-0 libgdk-pixbuf2.0-common libgeos-3.5.0\n",
      "  libgeos-c1v5 libgfortran3 libglade2-0 libgraphite2-3 libgtk2.0-0\n",
      "  libgtk2.0-bin libgtk2.0-common libharfbuzz0b libicu55 libjbig0\n",
      "  libjpeg-turbo8 libjpeg8 libjs-jquery libjs-jquery-ui liblapack3 liblcms2-2\n",
      "  libmagic1 libpango-1.0-0 libpangocairo-1.0-0 libpangoft2-1.0-0 libpixman-1-0\n",
      "  libpng12-0 libpython-stdlib libpython2.7-minimal libpython2.7-stdlib\n",
      "  libtcl8.6 libthai-data libthai0 libtiff5 libtk8.6 libwebp5 libwebpmux1\n",
      "  libx11-6 libx11-data libxau6 libxcb-render0 libxcb-shm0 libxcb1\n",
      "  libxcomposite1 libxcursor1 libxdamage1 libxdmcp6 libxext6 libxfixes3 libxft2\n",
      "  libxi6 libxinerama1 libxml2 libxrandr2 libxrender1 libxss1 mime-support\n",
      "  python python-cairo python-cffi-backend python-cheetah python-cryptography\n",
      "  python-cycler python-dap python-dateutil python-dnspython python-enum34\n",
      "  python-formencode python-glade2 python-gobject-2 python-gtk2 python-httplib2\n",
      "  python-idna python-imaging python-ipaddress python-matplotlib\n",
      "  python-matplotlib-data python-minimal python-mpltoolkits.basemap-data\n",
      "  python-numpy python-openid python-openssl python-paste python-pastedeploy\n",
      "  python-pastedeploy-tpl python-pastescript python-pil python-pkg-resources\n",
      "  python-pyasn1 python-pyparsing python-scgi python-setuptools python-six\n",
      "  python-tempita python-tk python-tz python2.7 python2.7-minimal sgml-base\n",
      "  shared-mime-info tk8.6-blt2.5 ttf-bitstream-vera tzdata ucf x11-common\n",
      "  xml-core\n",
      "Suggested packages:\n",
      "  blt-demo dbus-user-session | dbus-x11 apache2 | lighttpd | httpd cups-common\n",
      "  librsvg2-common gvfs libjs-jquery-ui-docs liblcms2-utils tcl8.6 tk8.6\n",
      "  python-doc python-markdown python-pygments python-memcache\n",
      "  python-cryptography-doc python-cryptography-vectors python-enum34-doc\n",
      "  python-egenix-mxdatetime python-gtk2-doc python-gobject-2-dbg dvipng ffmpeg\n",
      "  gir1.2-gtk-3.0 ghostscript inkscape ipython python-cairocffi\n",
      "  python-configobj python-excelerator python-gobject python-matplotlib-doc\n",
      "  python-nose python-qt4 python-scipy python-sip python-tornado python-traits\n",
      "  python-wxgtk3.0 texlive-extra-utils texlive-latex-extra ttf-staypuft\n",
      "  python-owslib gfortran python-dev python-numpy-dbg python-numpy-doc\n",
      "  python-openssl-doc python-openssl-dbg python-pastewebkit libjs-mochikit\n",
      "  libapache2-mod-wsgi libapache2-mod-python libapache2-mod-scgi python-pgsql\n",
      "  libjs-sphinxdoc python-flup python-cherrypy python-pil-doc python-pil-dbg\n",
      "  doc-base python-setuptools-doc tix python-tk-dbg python2.7-doc\n",
      "  binfmt-support sgml-base-doc debhelper\n",
      "The following NEW packages will be installed:\n",
      "  blt dbus file fontconfig fontconfig-config fonts-lyx formencode-i18n\n",
      "  hicolor-icon-theme javascript-common libatk1.0-0 libatk1.0-data\n",
      "  libavahi-client3 libavahi-common-data libavahi-common3 libblas-common\n",
      "  libblas3 libcairo2 libcap-ng0 libcups2 libdatrie1 libdbus-1-3 libfontconfig1\n",
      "  libfreetype6 libgdk-pixbuf2.0-0 libgdk-pixbuf2.0-common libgeos-3.5.0\n",
      "  libgeos-c1v5 libgfortran3 libglade2-0 libgraphite2-3 libgtk2.0-0\n",
      "  libgtk2.0-bin libgtk2.0-common libharfbuzz0b libicu55 libjbig0\n",
      "  libjpeg-turbo8 libjpeg8 libjs-jquery libjs-jquery-ui liblapack3 liblcms2-2\n",
      "  libmagic1 libpango-1.0-0 libpangocairo-1.0-0 libpangoft2-1.0-0 libpixman-1-0\n",
      "  libpng12-0 libpython-stdlib libpython2.7-minimal libpython2.7-stdlib\n",
      "  libtcl8.6 libthai-data libthai0 libtiff5 libtk8.6 libwebp5 libwebpmux1\n",
      "  libx11-6 libx11-data libxau6 libxcb-render0 libxcb-shm0 libxcb1\n",
      "  libxcomposite1 libxcursor1 libxdamage1 libxdmcp6 libxext6 libxfixes3 libxft2\n",
      "  libxi6 libxinerama1 libxml2 libxrandr2 libxrender1 libxss1 mime-support\n",
      "  python python-cairo python-cffi-backend python-cheetah python-cryptography\n",
      "  python-cycler python-dap python-dateutil python-dnspython python-enum34\n",
      "  python-formencode python-glade2 python-gobject-2 python-gtk2 python-httplib2\n",
      "  python-idna python-imaging python-ipaddress python-matplotlib\n",
      "  python-matplotlib-data python-minimal python-mpltoolkits.basemap\n",
      "  python-mpltoolkits.basemap-data python-numpy python-openid python-openssl\n",
      "  python-paste python-pastedeploy python-pastedeploy-tpl python-pastescript\n",
      "  python-pil python-pkg-resources python-pyasn1 python-pyparsing python-scgi\n",
      "  python-setuptools python-six python-tempita python-tk python-tz python2.7\n",
      "  python2.7-minimal sgml-base shared-mime-info tk8.6-blt2.5 ttf-bitstream-vera\n",
      "  tzdata ucf x11-common xml-core\n",
      "0 upgraded, 128 newly installed, 0 to remove and 26 not upgraded.\n",
      "Need to get 119 MB of archives.\n",
      "After this operation, 346 MB of additional disk space will be used.\n",
      "WARNING: The following packages cannot be authenticated!\n",
      "  libxau6 libxdmcp6 libxcb1 libx11-data libx11-6 libxext6 sgml-base\n",
      "  ttf-bitstream-vera ucf fontconfig-config libpng12-0 libfreetype6\n",
      "  libfontconfig1 fontconfig libatk1.0-data libatk1.0-0 libjpeg-turbo8 libjpeg8\n",
      "  libjbig0 libtiff5 libgdk-pixbuf2.0-common libgdk-pixbuf2.0-0\n",
      "  libgtk2.0-common libpixman-1-0 libxcb-render0 libxcb-shm0 libxrender1\n",
      "  libcairo2 libavahi-common-data libavahi-common3 libdbus-1-3 libavahi-client3\n",
      "  libcups2 libthai-data libdatrie1 libthai0 libpango-1.0-0 libgraphite2-3\n",
      "  libharfbuzz0b libpangoft2-1.0-0 libpangocairo-1.0-0 libxcomposite1\n",
      "  libxfixes3 libxcursor1 libxdamage1 libxi6 libxinerama1 libxrandr2 libicu55\n",
      "  libxml2 shared-mime-info libgtk2.0-0 libglade2-0 libxft2 x11-common libxss1\n",
      "  libpython2.7-minimal python2.7-minimal python-minimal mime-support\n",
      "  libpython2.7-stdlib python2.7 libpython-stdlib python tzdata libmagic1 file\n",
      "  libcap-ng0 dbus xml-core libtcl8.6 libtk8.6 tk8.6-blt2.5 blt fonts-lyx\n",
      "  formencode-i18n hicolor-icon-theme javascript-common libblas-common libblas3\n",
      "  libgeos-3.5.0 libgeos-c1v5 libgfortran3 libgtk2.0-bin libjs-jquery\n",
      "  libjs-jquery-ui liblapack3 liblcms2-2 python-cairo python-cffi-backend\n",
      "  python-cheetah python-enum34 python-idna python-ipaddress\n",
      "  python-pkg-resources python-pyasn1 python-six python-cryptography\n",
      "  python-cycler python-httplib2 python-dap python-dateutil python-dnspython\n",
      "  python-formencode python-gobject-2 python-gtk2 python-glade2 libwebp5\n",
      "  libwebpmux1 python-pil python-imaging python-matplotlib-data\n",
      "  python-pyparsing python-tz python-numpy python-matplotlib\n",
      "  python-mpltoolkits.basemap-data python-mpltoolkits.basemap python-openid\n",
      "  python-openssl python-tempita python-paste python-pastedeploy-tpl\n",
      "  python-pastedeploy python-setuptools python-pastescript python-scgi\n",
      "  python-tk\n"
     ]
    },
    {
     "name": "stderr",
     "output_type": "stream",
     "text": [
      "E: There were unauthenticated packages and -y was used without --allow-unauthenticated\n"
     ]
    }
   ],
   "source": [
    "%bash\n",
    "apt-get -y install python-mpltoolkits.basemap"
   ]
  },
  {
   "cell_type": "markdown",
   "metadata": {},
   "source": [
    "### datalab Jupyter magic with html tag, whith bash tag"
   ]
  },
  {
   "cell_type": "code",
   "execution_count": 65,
   "metadata": {
    "hiddenCell": true
   },
   "outputs": [
    {
     "data": {
      "text/html": [
       "The usual way to import python packages"
      ],
      "text/plain": [
       "<IPython.core.display.HTML object>"
      ]
     },
     "metadata": {},
     "output_type": "display_data"
    }
   ],
   "source": [
    "%html\n",
    "The usual way to import python packages"
   ]
  },
  {
   "cell_type": "code",
   "execution_count": 66,
   "metadata": {},
   "outputs": [],
   "source": [
    "import matplotlib.pyplot as plt\n",
    "import seaborn as sns\n",
    "import pandas as pd\n",
    "import numpy as np\n",
    "from pprint import pprint as pp\n",
    "\n",
    "import google.datalab.bigquery as bq \n",
    "\n",
    "import warnings\n",
    "warnings.filterwarnings('ignore')"
   ]
  },
  {
   "cell_type": "markdown",
   "metadata": {},
   "source": [
    "### Calls to BigQuery"
   ]
  },
  {
   "cell_type": "code",
   "execution_count": 67,
   "metadata": {},
   "outputs": [],
   "source": [
    "\n",
    "sql=\"\"\"\n",
    "SELECT ARR_DELAY, DEP_DELAY\n",
    "FROM `flights.tzcorr`\n",
    "WHERE DEP_DELAY >= 10 AND RAND() < 0.01\n",
    "\"\"\"\n",
    "## RAND() < 0.01 is selection 1% of a dataset.\n",
    "## but i BQ all dataset is processed\n",
    "df = bq.Query(sql).execute().result().to_dataframe()"
   ]
  },
  {
   "cell_type": "code",
   "execution_count": 68,
   "metadata": {},
   "outputs": [
    {
     "name": "stdout",
     "output_type": "stream",
     "text": [
      "(13643, 2)\n"
     ]
    },
    {
     "data": {
      "text/html": [
       "<div>\n",
       "<style scoped>\n",
       "    .dataframe tbody tr th:only-of-type {\n",
       "        vertical-align: middle;\n",
       "    }\n",
       "\n",
       "    .dataframe tbody tr th {\n",
       "        vertical-align: top;\n",
       "    }\n",
       "\n",
       "    .dataframe thead th {\n",
       "        text-align: right;\n",
       "    }\n",
       "</style>\n",
       "<table border=\"1\" class=\"dataframe\">\n",
       "  <thead>\n",
       "    <tr style=\"text-align: right;\">\n",
       "      <th></th>\n",
       "      <th>ARR_DELAY</th>\n",
       "      <th>DEP_DELAY</th>\n",
       "    </tr>\n",
       "  </thead>\n",
       "  <tbody>\n",
       "    <tr>\n",
       "      <th>count</th>\n",
       "      <td>13579.000000</td>\n",
       "      <td>13643.000000</td>\n",
       "    </tr>\n",
       "    <tr>\n",
       "      <th>mean</th>\n",
       "      <td>46.117093</td>\n",
       "      <td>51.072125</td>\n",
       "    </tr>\n",
       "    <tr>\n",
       "      <th>std</th>\n",
       "      <td>62.190008</td>\n",
       "      <td>60.195740</td>\n",
       "    </tr>\n",
       "    <tr>\n",
       "      <th>min</th>\n",
       "      <td>-41.000000</td>\n",
       "      <td>10.000000</td>\n",
       "    </tr>\n",
       "    <tr>\n",
       "      <th>25%</th>\n",
       "      <td>11.000000</td>\n",
       "      <td>17.000000</td>\n",
       "    </tr>\n",
       "    <tr>\n",
       "      <th>50%</th>\n",
       "      <td>27.000000</td>\n",
       "      <td>30.000000</td>\n",
       "    </tr>\n",
       "    <tr>\n",
       "      <th>75%</th>\n",
       "      <td>60.000000</td>\n",
       "      <td>61.000000</td>\n",
       "    </tr>\n",
       "    <tr>\n",
       "      <th>max</th>\n",
       "      <td>1183.000000</td>\n",
       "      <td>1160.000000</td>\n",
       "    </tr>\n",
       "  </tbody>\n",
       "</table>\n",
       "</div>"
      ],
      "text/plain": [
       "          ARR_DELAY     DEP_DELAY\n",
       "count  13579.000000  13643.000000\n",
       "mean      46.117093     51.072125\n",
       "std       62.190008     60.195740\n",
       "min      -41.000000     10.000000\n",
       "25%       11.000000     17.000000\n",
       "50%       27.000000     30.000000\n",
       "75%       60.000000     61.000000\n",
       "max     1183.000000   1160.000000"
      ]
     },
     "execution_count": 68,
     "metadata": {},
     "output_type": "execute_result"
    }
   ],
   "source": [
    "pp(df.shape)\n",
    "df.describe()"
   ]
  },
  {
   "cell_type": "code",
   "execution_count": 69,
   "metadata": {},
   "outputs": [
    {
     "data": {
      "image/png": "[encoded data removed]",
      "text/plain": [
       "<matplotlib.figure.Figure at 0x7ffb3c122710>"
      ]
     },
     "metadata": {},
     "output_type": "display_data"
    }
   ],
   "source": [
    "sns.set_style(\"whitegrid\")\n",
    "ax = sns.violinplot(data=df, x='ARR_DELAY', inner='box', orient='h')\n",
    "#ax.axes.set_xlim(0, 30)"
   ]
  },
  {
   "cell_type": "code",
   "execution_count": 70,
   "metadata": {},
   "outputs": [],
   "source": [
    "sql = \"\"\"\n",
    "SELECT ARR_DELAY, DEP_DELAY\n",
    "FROM `flights.tzcorr`\n",
    "WHERE RAND() < 0.001\n",
    "\"\"\"\n",
    "df = bq.Query(sql).execute().result().to_dataframe()"
   ]
  },
  {
   "cell_type": "code",
   "execution_count": 71,
   "metadata": {},
   "outputs": [
    {
     "data": {
      "text/html": [
       "<div>\n",
       "<style scoped>\n",
       "    .dataframe tbody tr th:only-of-type {\n",
       "        vertical-align: middle;\n",
       "    }\n",
       "\n",
       "    .dataframe tbody tr th {\n",
       "        vertical-align: top;\n",
       "    }\n",
       "\n",
       "    .dataframe thead th {\n",
       "        text-align: right;\n",
       "    }\n",
       "</style>\n",
       "<table border=\"1\" class=\"dataframe\">\n",
       "  <thead>\n",
       "    <tr style=\"text-align: right;\">\n",
       "      <th></th>\n",
       "      <th>ARR_DELAY</th>\n",
       "      <th>DEP_DELAY</th>\n",
       "    </tr>\n",
       "  </thead>\n",
       "  <tbody>\n",
       "    <tr>\n",
       "      <th>count</th>\n",
       "      <td>6150.000000</td>\n",
       "      <td>6174.000000</td>\n",
       "    </tr>\n",
       "    <tr>\n",
       "      <th>mean</th>\n",
       "      <td>4.668943</td>\n",
       "      <td>9.841594</td>\n",
       "    </tr>\n",
       "    <tr>\n",
       "      <th>std</th>\n",
       "      <td>45.651237</td>\n",
       "      <td>43.506624</td>\n",
       "    </tr>\n",
       "    <tr>\n",
       "      <th>min</th>\n",
       "      <td>-64.000000</td>\n",
       "      <td>-27.000000</td>\n",
       "    </tr>\n",
       "    <tr>\n",
       "      <th>25%</th>\n",
       "      <td>-13.000000</td>\n",
       "      <td>-5.000000</td>\n",
       "    </tr>\n",
       "    <tr>\n",
       "      <th>50%</th>\n",
       "      <td>-5.000000</td>\n",
       "      <td>-2.000000</td>\n",
       "    </tr>\n",
       "    <tr>\n",
       "      <th>75%</th>\n",
       "      <td>7.000000</td>\n",
       "      <td>7.000000</td>\n",
       "    </tr>\n",
       "    <tr>\n",
       "      <th>max</th>\n",
       "      <td>1508.000000</td>\n",
       "      <td>1522.000000</td>\n",
       "    </tr>\n",
       "  </tbody>\n",
       "</table>\n",
       "</div>"
      ],
      "text/plain": [
       "         ARR_DELAY    DEP_DELAY\n",
       "count  6150.000000  6174.000000\n",
       "mean      4.668943     9.841594\n",
       "std      45.651237    43.506624\n",
       "min     -64.000000   -27.000000\n",
       "25%     -13.000000    -5.000000\n",
       "50%      -5.000000    -2.000000\n",
       "75%       7.000000     7.000000\n",
       "max    1508.000000  1522.000000"
      ]
     },
     "execution_count": 71,
     "metadata": {},
     "output_type": "execute_result"
    }
   ],
   "source": [
    "df.describe()"
   ]
  },
  {
   "cell_type": "code",
   "execution_count": 72,
   "metadata": {},
   "outputs": [
    {
     "data": {
      "text/html": [
       "<div>\n",
       "<style scoped>\n",
       "    .dataframe tbody tr th:only-of-type {\n",
       "        vertical-align: middle;\n",
       "    }\n",
       "\n",
       "    .dataframe tbody tr th {\n",
       "        vertical-align: top;\n",
       "    }\n",
       "\n",
       "    .dataframe thead th {\n",
       "        text-align: right;\n",
       "    }\n",
       "</style>\n",
       "<table border=\"1\" class=\"dataframe\">\n",
       "  <thead>\n",
       "    <tr style=\"text-align: right;\">\n",
       "      <th></th>\n",
       "      <th>ARR_DELAY</th>\n",
       "      <th>DEP_DELAY</th>\n",
       "      <th>ontime</th>\n",
       "    </tr>\n",
       "  </thead>\n",
       "  <tbody>\n",
       "    <tr>\n",
       "      <th>1</th>\n",
       "      <td>9.0</td>\n",
       "      <td>5.0</td>\n",
       "      <td>True</td>\n",
       "    </tr>\n",
       "    <tr>\n",
       "      <th>2</th>\n",
       "      <td>88.0</td>\n",
       "      <td>103.0</td>\n",
       "      <td>False</td>\n",
       "    </tr>\n",
       "    <tr>\n",
       "      <th>4</th>\n",
       "      <td>24.0</td>\n",
       "      <td>-2.0</td>\n",
       "      <td>True</td>\n",
       "    </tr>\n",
       "    <tr>\n",
       "      <th>7</th>\n",
       "      <td>15.0</td>\n",
       "      <td>4.0</td>\n",
       "      <td>True</td>\n",
       "    </tr>\n",
       "    <tr>\n",
       "      <th>10</th>\n",
       "      <td>38.0</td>\n",
       "      <td>71.0</td>\n",
       "      <td>False</td>\n",
       "    </tr>\n",
       "  </tbody>\n",
       "</table>\n",
       "</div>"
      ],
      "text/plain": [
       "    ARR_DELAY  DEP_DELAY  ontime\n",
       "1         9.0        5.0    True\n",
       "2        88.0      103.0   False\n",
       "4        24.0       -2.0    True\n",
       "7        15.0        4.0    True\n",
       "10       38.0       71.0   False"
      ]
     },
     "execution_count": 72,
     "metadata": {},
     "output_type": "execute_result"
    }
   ],
   "source": [
    "df['ontime'] = df['DEP_DELAY'] < 10  #add new boolean column\n",
    "df[df['ARR_DELAY']>0].head()  "
   ]
  },
  {
   "cell_type": "code",
   "execution_count": 73,
   "metadata": {},
   "outputs": [
    {
     "data": {
      "text/plain": [
       "(-50, 70)"
      ]
     },
     "execution_count": 73,
     "metadata": {},
     "output_type": "execute_result"
    },
    {
     "data": {
      "image/png": "[encoded data removed]",
      "text/plain": [
       "<matplotlib.figure.Figure at 0x7ffb3e0ce898>"
      ]
     },
     "metadata": {},
     "output_type": "display_data"
    }
   ],
   "source": [
    "##let's graph the arrival delays for  ontiime = true / false\n",
    "ax = sns.violinplot(data=df, x='ARR_DELAY', y='ontime', \n",
    "                    inner='box',orient='h', gridsize=1000)\n",
    "ax.set_xlim(-50, 70)"
   ]
  },
  {
   "cell_type": "code",
   "execution_count": 74,
   "metadata": {
    "hiddenCell": true
   },
   "outputs": [],
   "source": [
    "depdelayquery = \"\"\"\n",
    "SELECT\n",
    "  *\n",
    "FROM (\n",
    "  SELECT\n",
    "    DEP_DELAY,\n",
    "    AVG(ARR_DELAY) AS arrival_delay,\n",
    "    STDDEV(ARR_DELAY) AS stddev_arrival_delay,\n",
    "    COUNT(ARR_DELAY) AS numflights\n",
    "  FROM\n",
    "    `flights.tzcorr`\n",
    "  GROUP BY\n",
    "    DEP_DELAY )\n",
    "WHERE\n",
    "  numflights > 370\n",
    "ORDER BY\n",
    "  DEP_DELAY\n",
    "\"\"\"\n",
    "\n",
    "depdelay = bq.Query(depdelayquery).execute().result().to_dataframe()\n"
   ]
  },
  {
   "cell_type": "code",
   "execution_count": 75,
   "metadata": {},
   "outputs": [
    {
     "data": {
      "text/html": [
       "<div>\n",
       "<style scoped>\n",
       "    .dataframe tbody tr th:only-of-type {\n",
       "        vertical-align: middle;\n",
       "    }\n",
       "\n",
       "    .dataframe tbody tr th {\n",
       "        vertical-align: top;\n",
       "    }\n",
       "\n",
       "    .dataframe thead th {\n",
       "        text-align: right;\n",
       "    }\n",
       "</style>\n",
       "<table border=\"1\" class=\"dataframe\">\n",
       "  <thead>\n",
       "    <tr style=\"text-align: right;\">\n",
       "      <th></th>\n",
       "      <th>DEP_DELAY</th>\n",
       "      <th>arrival_delay</th>\n",
       "      <th>stddev_arrival_delay</th>\n",
       "      <th>numflights</th>\n",
       "    </tr>\n",
       "  </thead>\n",
       "  <tbody>\n",
       "    <tr>\n",
       "      <th>0</th>\n",
       "      <td>-23.0</td>\n",
       "      <td>-24.005747</td>\n",
       "      <td>11.095207</td>\n",
       "      <td>522</td>\n",
       "    </tr>\n",
       "    <tr>\n",
       "      <th>1</th>\n",
       "      <td>-22.0</td>\n",
       "      <td>-23.258693</td>\n",
       "      <td>12.300774</td>\n",
       "      <td>719</td>\n",
       "    </tr>\n",
       "    <tr>\n",
       "      <th>2</th>\n",
       "      <td>-21.0</td>\n",
       "      <td>-22.606495</td>\n",
       "      <td>12.094192</td>\n",
       "      <td>1047</td>\n",
       "    </tr>\n",
       "    <tr>\n",
       "      <th>3</th>\n",
       "      <td>-20.0</td>\n",
       "      <td>-21.538365</td>\n",
       "      <td>12.075209</td>\n",
       "      <td>1590</td>\n",
       "    </tr>\n",
       "    <tr>\n",
       "      <th>4</th>\n",
       "      <td>-19.0</td>\n",
       "      <td>-20.591874</td>\n",
       "      <td>12.133052</td>\n",
       "      <td>2215</td>\n",
       "    </tr>\n",
       "  </tbody>\n",
       "</table>\n",
       "</div>"
      ],
      "text/plain": [
       "   DEP_DELAY  arrival_delay  stddev_arrival_delay  numflights\n",
       "0      -23.0     -24.005747             11.095207         522\n",
       "1      -22.0     -23.258693             12.300774         719\n",
       "2      -21.0     -22.606495             12.094192        1047\n",
       "3      -20.0     -21.538365             12.075209        1590\n",
       "4      -19.0     -20.591874             12.133052        2215"
      ]
     },
     "execution_count": 75,
     "metadata": {},
     "output_type": "execute_result"
    }
   ],
   "source": [
    "depdelay.head()"
   ]
  },
  {
   "cell_type": "code",
   "execution_count": 76,
   "metadata": {},
   "outputs": [
    {
     "data": {
      "image/png": "[encoded data removed]",
      "text/plain": [
       "<matplotlib.figure.Figure at 0x7ffb3e0afcf8>"
      ]
     },
     "metadata": {},
     "output_type": "display_data"
    }
   ],
   "source": [
    "ax = depdelay.plot(kind='line', x='DEP_DELAY', \n",
    "              y='arrival_delay', yerr='stddev_arrival_delay')"
   ]
  },
  {
   "cell_type": "code",
   "execution_count": 80,
   "metadata": {},
   "outputs": [
    {
     "data": {
      "text/plain": [
       "Text(0,0.5,'> 30% likelihood of this Arrival Delay (minutes)')"
      ]
     },
     "execution_count": 80,
     "metadata": {},
     "output_type": "execute_result"
    },
    {
     "data": {
      "image/png": "[encoded data removed]",
      "text/plain": [
       "<matplotlib.figure.Figure at 0x7ffb3c03eda0>"
      ]
     },
     "metadata": {},
     "output_type": "display_data"
    }
   ],
   "source": [
    "import matplotlib.pyplot as plt\n",
    "Z_30 = 0.52   #z-value of 30% of cumulative distribution\n",
    "depdelay['arr_delay_30'] = \\\n",
    "  (Z_30 * depdelay['stddev_arrival_delay']) + depdelay['arrival_delay']\n",
    "plt.axhline(y=15, color='r')\n",
    "ax = plt.axes()\n",
    "depdelay.plot(kind='line', x='DEP_DELAY', y='arr_delay_30',\n",
    "              ax=ax, ylim=(0,30), xlim=(0,30), legend=False)\n",
    "ax.set_xlabel('Departure Delay (minutes)')\n",
    "ax.set_ylabel('> 30% likelihood of this Arrival Delay (minutes)')\n",
    "\n"
   ]
  },
  {
   "cell_type": "markdown",
   "metadata": {},
   "source": [
    "**from the chart generated it appears your decision criteria  is a departure delay of no more  than 13 minutes**"
   ]
  },
  {
   "cell_type": "markdown",
   "metadata": {},
   "source": [
    "**Drop assumption distribution of flights at each depature is normal**\n",
    "\n",
    "*compute the 30% likelihood of each departure delay with APPROX_QUANTILES func*"
   ]
  },
  {
   "cell_type": "code",
   "execution_count": 86,
   "metadata": {},
   "outputs": [],
   "source": [
    "depdelayquery2 = \"\"\"\n",
    "SELECT\n",
    "  DEP_DELAY,\n",
    "  arrival_delay,\n",
    "  numflights\n",
    "FROM (\n",
    "  SELECT\n",
    "    DEP_DELAY,\n",
    "    APPROX_QUANTILES(ARR_DELAY,101)[OFFSET(70)] AS arrival_delay, --approx_quantile func\n",
    "    COUNT(ARR_DELAY) AS numflights\n",
    "  FROM\n",
    "    `flights.tzcorr`\n",
    "  GROUP BY\n",
    "    DEP_DELAY )\n",
    "WHERE\n",
    "  numflights > 370\n",
    "ORDER BY\n",
    "  DEP_DELAY\n",
    "\"\"\""
   ]
  },
  {
   "cell_type": "code",
   "execution_count": 87,
   "metadata": {},
   "outputs": [
    {
     "data": {
      "text/plain": [
       "Text(0,0.5,'> 30% likelihood of this Arrival Delay (minutes)')"
      ]
     },
     "execution_count": 87,
     "metadata": {},
     "output_type": "execute_result"
    },
    {
     "data": {
      "image/png": "[encoded data removed]",
      "text/plain": [
       "<matplotlib.figure.Figure at 0x7ffb2d490b00>"
      ]
     },
     "metadata": {},
     "output_type": "display_data"
    }
   ],
   "source": [
    "depdelay = bq.Query(depdelayquery2).execute().result().to_dataframe()\n",
    "plt.axhline(y=15, color='r')\n",
    "ax = plt.axes()\n",
    "depdelay.plot(kind='line', x='DEP_DELAY', y='arrival_delay',\n",
    "              ax=ax, ylim=(0,30), xlim=(0,30), legend=False)\n",
    "ax.set_xlabel('Departure Delay (minutes)')\n",
    "ax.set_ylabel('> 30% likelihood of this Arrival Delay (minutes)')\n"
   ]
  },
  {
   "cell_type": "markdown",
   "metadata": {},
   "source": [
    "**Now it appears your decision criteria  is a departure delay of 16 minutes**"
   ]
  },
  {
   "cell_type": "markdown",
   "metadata": {},
   "source": [
    "### trainday table was created to storea 70 - 30  split on FL_DATE"
   ]
  },
  {
   "cell_type": "code",
   "execution_count": 88,
   "metadata": {},
   "outputs": [],
   "source": [
    "## get training dataset\n",
    "depdelayquery3 = \"\"\"\n",
    "SELECT\n",
    "  DEP_DELAY,\n",
    "  arrival_delay,\n",
    "  numflights\n",
    "FROM (\n",
    "  SELECT\n",
    "    DEP_DELAY,\n",
    "    APPROX_QUANTILES(ARR_DELAY,\n",
    "      101)[OFFSET(70)] AS arrival_delay,\n",
    "    COUNT(ARR_DELAY) AS numflights\n",
    "  FROM\n",
    "    `flights.tzcorr` f\n",
    "  JOIN\n",
    "    `flights.trainday` t\n",
    "  ON\n",
    "    f.FL_DATE = t.FL_DATE\n",
    "  WHERE\n",
    "    t.is_train_day = 'True'\n",
    "  GROUP BY\n",
    "    DEP_DELAY )\n",
    "WHERE\n",
    "  numflights > 370\n",
    "ORDER BY\n",
    "  DEP_DELAY\n",
    "\"\"\""
   ]
  },
  {
   "cell_type": "code",
   "execution_count": 89,
   "metadata": {},
   "outputs": [
    {
     "data": {
      "text/plain": [
       "Text(0,0.5,'> 30% likelihood of this Arrival Delay (minutes)')"
      ]
     },
     "execution_count": 89,
     "metadata": {},
     "output_type": "execute_result"
    },
    {
     "data": {
      "image/png": "[encoded data removed]",
      "text/plain": [
       "<matplotlib.figure.Figure at 0x7ffb3e0c4c88>"
      ]
     },
     "metadata": {},
     "output_type": "display_data"
    }
   ],
   "source": [
    "depdelay = bq.Query(depdelayquery3).execute().result().to_dataframe()\n",
    "plt.axhline(y=15, color='r')\n",
    "ax = plt.axes()\n",
    "depdelay.plot(kind='line', x='DEP_DELAY', y='arrival_delay',\n",
    "              ax=ax, ylim=(0,30), xlim=(0,30), legend=False)\n",
    "ax.set_xlabel('Departure Delay (minutes)')\n",
    "ax.set_ylabel('> 30% likelihood of this Arrival Delay (minutes)')"
   ]
  },
  {
   "cell_type": "markdown",
   "metadata": {},
   "source": [
    "**Let’s formally evaluate how well our recommendation of 16 minutes performs on a test dataset**"
   ]
  },
  {
   "cell_type": "code",
   "execution_count": 94,
   "metadata": {},
   "outputs": [],
   "source": [
    "evalquery = \"\"\"\n",
    "SELECT\n",
    "  SUM(IF(DEP_DELAY < 16\n",
    "      AND arr_delay < 15, 1, 0)) AS correct_nocancel,\n",
    "  SUM(IF(DEP_DELAY < 16\n",
    "      AND arr_delay >= 15, 1, 0)) AS wrong_nocancel,\n",
    "  SUM(IF(DEP_DELAY >= 16\n",
    "      AND arr_delay < 15, 1, 0)) AS wrong_cancel,\n",
    "  SUM(IF(DEP_DELAY >= 16\n",
    "      AND arr_delay >= 15, 1, 0)) AS correct_cancel\n",
    "FROM (\n",
    "  SELECT\n",
    "    DEP_DELAY,\n",
    "    ARR_DELAY\n",
    "  FROM\n",
    "    `flights.tzcorr` f\n",
    "  JOIN\n",
    "    `flights.trainday` t\n",
    "  ON\n",
    "    f.FL_DATE = t.FL_DATE\n",
    "  WHERE\n",
    "    t.is_train_day = 'False' )\n",
    "\"\"\"\n",
    "evaldf = bq.Query(evalquery).execute().result().to_dataframe()"
   ]
  },
  {
   "cell_type": "code",
   "execution_count": 102,
   "metadata": {},
   "outputs": [
    {
     "data": {
      "text/html": [
       "<div>\n",
       "<style scoped>\n",
       "    .dataframe tbody tr th:only-of-type {\n",
       "        vertical-align: middle;\n",
       "    }\n",
       "\n",
       "    .dataframe tbody tr th {\n",
       "        vertical-align: top;\n",
       "    }\n",
       "\n",
       "    .dataframe thead th {\n",
       "        text-align: right;\n",
       "    }\n",
       "</style>\n",
       "<table border=\"1\" class=\"dataframe\">\n",
       "  <thead>\n",
       "    <tr style=\"text-align: right;\">\n",
       "      <th></th>\n",
       "      <th>correct_nocancel</th>\n",
       "      <th>wrong_nocancel</th>\n",
       "      <th>wrong_cancel</th>\n",
       "      <th>correct_cancel</th>\n",
       "    </tr>\n",
       "  </thead>\n",
       "  <tbody>\n",
       "    <tr>\n",
       "      <th>0</th>\n",
       "      <td>1389162</td>\n",
       "      <td>72486</td>\n",
       "      <td>58359</td>\n",
       "      <td>236776</td>\n",
       "    </tr>\n",
       "  </tbody>\n",
       "</table>\n",
       "</div>"
      ],
      "text/plain": [
       "   correct_nocancel  wrong_nocancel  wrong_cancel  correct_cancel\n",
       "0           1389162           72486         58359          236776"
      ]
     },
     "execution_count": 102,
     "metadata": {},
     "output_type": "execute_result"
    }
   ],
   "source": [
    "evaldf"
   ]
  },
  {
   "cell_type": "code",
   "execution_count": 99,
   "metadata": {},
   "outputs": [
    {
     "name": "stdout",
     "output_type": "stream",
     "text": [
      "Percentage of correctly not cancelling a flight 0    0.950408\n",
      "dtype: float64\n",
      "Percentage of correctly cancelling a flight 0    0.802263\n",
      "dtype: float64\n"
     ]
    }
   ],
   "source": [
    "print(\"Percentage of correctly not cancelling a flight {}\".format(evaldf['correct_nocancel'] / \\\n",
    "      (evaldf['correct_nocancel'] + evaldf['wrong_nocancel'])))\n",
    "\n",
    "print(\"Percentage of correctly cancelling a flight {}\".format(evaldf['correct_cancel'] / \\\n",
    "      (evaldf['correct_cancel'] + evaldf['wrong_cancel'])))"
   ]
  },
  {
   "cell_type": "markdown",
   "metadata": {},
   "source": [
    "**Evaluate the model on the decision border**"
   ]
  },
  {
   "cell_type": "code",
   "execution_count": 104,
   "metadata": {},
   "outputs": [],
   "source": [
    "evalquery2=\"\"\"\n",
    "SELECT\n",
    "  SUM(IF(DEP_DELAY = 15\n",
    "      AND arr_delay < 15, 1, 0)) AS correct_nocancel,\n",
    "  SUM(IF(DEP_DELAY = 15\n",
    "      AND arr_delay >= 15, 1, 0)) AS wrong_nocancel,\n",
    "  SUM(IF(DEP_DELAY = 16\n",
    "      AND arr_delay < 15, 1, 0)) AS wrong_cancel,\n",
    "  SUM(IF(DEP_DELAY = 16\n",
    "      AND arr_delay >= 15, 1, 0)) AS correct_cancel\n",
    "FROM (\n",
    "  SELECT\n",
    "    DEP_DELAY,\n",
    "    ARR_DELAY\n",
    "  FROM\n",
    "    `flights.tzcorr` f\n",
    "  JOIN\n",
    "    `flights.trainday` t\n",
    "  ON\n",
    "    f.FL_DATE = t.FL_DATE\n",
    "  WHERE\n",
    "    t.is_train_day = 'False' )\n",
    "\"\"\"\n",
    "\n",
    "evaldf = bq.Query(evalquery2).execute().result().to_dataframe()"
   ]
  },
  {
   "cell_type": "code",
   "execution_count": 105,
   "metadata": {},
   "outputs": [
    {
     "data": {
      "text/html": [
       "<div>\n",
       "<style scoped>\n",
       "    .dataframe tbody tr th:only-of-type {\n",
       "        vertical-align: middle;\n",
       "    }\n",
       "\n",
       "    .dataframe tbody tr th {\n",
       "        vertical-align: top;\n",
       "    }\n",
       "\n",
       "    .dataframe thead th {\n",
       "        text-align: right;\n",
       "    }\n",
       "</style>\n",
       "<table border=\"1\" class=\"dataframe\">\n",
       "  <thead>\n",
       "    <tr style=\"text-align: right;\">\n",
       "      <th></th>\n",
       "      <th>correct_nocancel</th>\n",
       "      <th>wrong_nocancel</th>\n",
       "      <th>wrong_cancel</th>\n",
       "      <th>correct_cancel</th>\n",
       "    </tr>\n",
       "  </thead>\n",
       "  <tbody>\n",
       "    <tr>\n",
       "      <th>0</th>\n",
       "      <td>8474</td>\n",
       "      <td>3179</td>\n",
       "      <td>7459</td>\n",
       "      <td>3195</td>\n",
       "    </tr>\n",
       "  </tbody>\n",
       "</table>\n",
       "</div>"
      ],
      "text/plain": [
       "   correct_nocancel  wrong_nocancel  wrong_cancel  correct_cancel\n",
       "0              8474            3179          7459            3195"
      ]
     },
     "execution_count": 105,
     "metadata": {},
     "output_type": "execute_result"
    }
   ],
   "source": [
    "evaldf.head()"
   ]
  },
  {
   "cell_type": "code",
   "execution_count": 106,
   "metadata": {},
   "outputs": [
    {
     "name": "stdout",
     "output_type": "stream",
     "text": [
      "Percentage of correctly not cancelling a flight 0    0.727195\n",
      "dtype: float64\n",
      "Percentage of correctly cancelling a flight 0    0.299887\n",
      "dtype: float64\n"
     ]
    }
   ],
   "source": [
    "print(\"Percentage of correctly not cancelling a flight {}\".format(evaldf['correct_nocancel'] / \\\n",
    "      (evaldf['correct_nocancel'] + evaldf['wrong_nocancel'])))\n",
    "\n",
    "print(\"Percentage of correctly cancelling a flight {}\".format(evaldf['correct_cancel'] / \\\n",
    "      (evaldf['correct_cancel'] + evaldf['wrong_cancel'])))"
   ]
  },
  {
   "cell_type": "markdown",
   "metadata": {},
   "source": [
    "### cancelling probability is close to target of 30% but we miss some flights which we should not cancel"
   ]
  },
  {
   "cell_type": "code",
   "execution_count": null,
   "metadata": {},
   "outputs": [],
   "source": []
  }
 ],
 "metadata": {
  "kernelspec": {
   "display_name": "Python 3",
   "language": "python",
   "name": "python3"
  },
  "language_info": {
   "codemirror_mode": {
    "name": "ipython",
    "version": 3
   },
   "file_extension": ".py",
   "mimetype": "text/x-python",
   "name": "python",
   "nbconvert_exporter": "python",
   "pygments_lexer": "ipython3",
   "version": "3.5.6"
  }
 },
 "nbformat": 4,
 "nbformat_minor": 2
}
